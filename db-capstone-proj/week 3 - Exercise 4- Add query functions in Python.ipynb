{
 "cells": [
  {
   "cell_type": "code",
   "execution_count": 17,
   "metadata": {},
   "outputs": [
    {
     "name": "stdout",
     "output_type": "stream",
     "text": [
      "Name: mysql-connector-python\n",
      "Version: 8.2.0\n",
      "Summary: MySQL driver written in Python\n",
      "Home-page: http://dev.mysql.com/doc/connector-python/en/index.html\n",
      "Author: Oracle and/or its affiliates\n",
      "Author-email: \n",
      "License: GNU GPLv2 (with FOSS License Exception)\n",
      "Location: C:\\Users\\chill\\AppData\\Local\\Programs\\Python\\Python312\\Lib\\site-packages\n",
      "Requires: protobuf\n",
      "Required-by: \n"
     ]
    }
   ],
   "source": [
    "!pip show mysql-connector-python"
   ]
  },
  {
   "cell_type": "code",
   "execution_count": 18,
   "metadata": {},
   "outputs": [],
   "source": [
    "import mysql.connector as connector"
   ]
  },
  {
   "cell_type": "code",
   "execution_count": 19,
   "metadata": {},
   "outputs": [],
   "source": [
    "connection=connector.connect(\n",
    "                             user=\"admin1\", # use your own\n",
    "                             password=\"Jpapa#%076\", # use your own\n",
    "                            )"
   ]
  },
  {
   "cell_type": "code",
   "execution_count": 20,
   "metadata": {},
   "outputs": [],
   "source": [
    "cursor = connection.cursor()"
   ]
  },
  {
   "cell_type": "code",
   "execution_count": 21,
   "metadata": {},
   "outputs": [],
   "source": [
    "cursor.execute(\"use littlelemondb_fv\")\n"
   ]
  },
  {
   "cell_type": "code",
   "execution_count": 22,
   "metadata": {},
   "outputs": [
    {
     "name": "stdout",
     "output_type": "stream",
     "text": [
      "('bookings',)\n",
      "('customer_details',)\n",
      "('menu',)\n",
      "('menu_items',)\n",
      "('order_delivery_status',)\n",
      "('orders',)\n",
      "('ordersview',)\n",
      "('staff_info',)\n"
     ]
    }
   ],
   "source": [
    "cursor.execute(\"SHOW tables\")\n",
    "for table in cursor:\n",
    "    print(table)    "
   ]
  },
  {
   "cell_type": "code",
   "execution_count": 23,
   "metadata": {},
   "outputs": [],
   "source": [
    "join_query = \"\"\" SELECT customer_details.FullName,\n",
    "customer_details.Email,\n",
    "orders.TotalCost\n",
    "FROM customer_details\n",
    "JOIN orders\n",
    "ON customer_details.CustomerID = orders.CustomerID\n",
    "WHERE orders.TotalCost > 60;\n",
    "\"\"\""
   ]
  },
  {
   "cell_type": "code",
   "execution_count": 24,
   "metadata": {},
   "outputs": [],
   "source": [
    "cursor.execute(join_query)"
   ]
  },
  {
   "cell_type": "code",
   "execution_count": 25,
   "metadata": {},
   "outputs": [],
   "source": [
    "results = cursor.fetchall()"
   ]
  },
  {
   "cell_type": "code",
   "execution_count": 26,
   "metadata": {},
   "outputs": [
    {
     "name": "stdout",
     "output_type": "stream",
     "text": [
      "('FullName', 'Email', 'TotalCost')\n",
      "('Morganne Brecknell', 'Morganne.Brecknell@gmail.com', Decimal('190.00'))\n",
      "('Sabina Corneille', 'Sabina.Corneille@gmail.com', Decimal('320.00'))\n",
      "('Marillin Dennehy', 'Marillin.Dennehy@gmail.com', Decimal('93.13'))\n",
      "('Ximenes Carnachen', 'Ximenes.Carnachen@gmail.com', Decimal('190.00'))\n",
      "('Klement Brothwell', 'Klement.Brothwell@gmail.com', Decimal('225.00'))\n",
      "('Sherye Christmas', 'Sherye.Christmas@gmail.com', Decimal('144.09'))\n",
      "('Lowrance Kleinmintz', 'Lowrance.Kleinmintz@gmail.com', Decimal('168.27'))\n"
     ]
    }
   ],
   "source": [
    "columns=cursor.column_names\n",
    "print(columns)\n",
    "for result in results:\n",
    "    print(result)"
   ]
  },
  {
   "cell_type": "code",
   "execution_count": 27,
   "metadata": {},
   "outputs": [
    {
     "name": "stdout",
     "output_type": "stream",
     "text": [
      "The cursor is closed.\n",
      "MySQL connection is closed.\n"
     ]
    }
   ],
   "source": [
    "if connection.is_connected():\n",
    "    cursor.close()\n",
    "    print(\"The cursor is closed.\")\n",
    "    connection.close()\n",
    "    print(\"MySQL connection is closed.\")\n",
    "else:\n",
    "    print(\"Connection is already closed\")"
   ]
  }
 ],
 "metadata": {
  "kernelspec": {
   "display_name": "Python 3",
   "language": "python",
   "name": "python3"
  },
  "language_info": {
   "codemirror_mode": {
    "name": "ipython",
    "version": 3
   },
   "file_extension": ".py",
   "mimetype": "text/x-python",
   "name": "python",
   "nbconvert_exporter": "python",
   "pygments_lexer": "ipython3",
   "version": "3.12.1"
  }
 },
 "nbformat": 4,
 "nbformat_minor": 2
}
