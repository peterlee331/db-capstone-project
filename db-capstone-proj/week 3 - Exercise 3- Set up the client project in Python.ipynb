{
 "cells": [
  {
   "cell_type": "code",
   "execution_count": 1,
   "metadata": {},
   "outputs": [
    {
     "name": "stdout",
     "output_type": "stream",
     "text": [
      "Name: mysql-connector-python\n",
      "Version: 8.2.0\n",
      "Summary: MySQL driver written in Python\n",
      "Home-page: http://dev.mysql.com/doc/connector-python/en/index.html\n",
      "Author: Oracle and/or its affiliates\n",
      "Author-email: \n",
      "License: GNU GPLv2 (with FOSS License Exception)\n",
      "Location: C:\\Users\\chill\\AppData\\Local\\Programs\\Python\\Python312\\Lib\\site-packages\n",
      "Requires: protobuf\n",
      "Required-by: \n"
     ]
    }
   ],
   "source": [
    "!pip show mysql-connector-python"
   ]
  },
  {
   "cell_type": "code",
   "execution_count": 2,
   "metadata": {},
   "outputs": [],
   "source": [
    "import mysql.connector as connector"
   ]
  },
  {
   "cell_type": "code",
   "execution_count": 3,
   "metadata": {},
   "outputs": [],
   "source": [
    "connection=connector.connect(\n",
    "                             user=\"admin1\", # use your own\n",
    "                             password=\"Jpapa#%076\", # use your own\n",
    "                            )"
   ]
  }
 ],
 "metadata": {
  "kernelspec": {
   "display_name": "Python 3",
   "language": "python",
   "name": "python3"
  },
  "language_info": {
   "codemirror_mode": {
    "name": "ipython",
    "version": 3
   },
   "file_extension": ".py",
   "mimetype": "text/x-python",
   "name": "python",
   "nbconvert_exporter": "python",
   "pygments_lexer": "ipython3",
   "version": "3.12.1"
  }
 },
 "nbformat": 4,
 "nbformat_minor": 2
}
